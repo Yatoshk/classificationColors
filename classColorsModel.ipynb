{
 "cells": [
  {
   "cell_type": "code",
   "execution_count": 81,
   "id": "980e613d-6338-4f77-88f5-fc37db2ab7fc",
   "metadata": {},
   "outputs": [],
   "source": [
    "import numpy as np\n",
    "import pandas as pd"
   ]
  },
  {
   "cell_type": "code",
   "execution_count": 99,
   "id": "24695977-119d-4de4-978d-3202e495d453",
   "metadata": {},
   "outputs": [],
   "source": [
    "import tensorflow as tf\n",
    "from tensorflow import keras\n",
    "from tensorflow.keras import layers\n",
    "import pathlib\n",
    "import matplotlib.pyplot as plt"
   ]
  },
  {
   "cell_type": "code",
   "execution_count": 82,
   "id": "1e319003-e750-4727-8971-eda441ce9216",
   "metadata": {},
   "outputs": [],
   "source": [
    "dataset = pd.read_csv('dataset/final_data.csv')"
   ]
  },
  {
   "cell_type": "code",
   "execution_count": 83,
   "id": "3bc4a404-a022-421a-a72d-48871b5fce2a",
   "metadata": {},
   "outputs": [],
   "source": [
    "dataset = pd.get_dummies(dataset, columns=['label'])"
   ]
  },
  {
   "cell_type": "code",
   "execution_count": 85,
   "id": "2d89fbfe-2e4e-4684-b002-de1d9e5c6986",
   "metadata": {},
   "outputs": [],
   "source": [
    "train_dataset = dataset.sample(frac=0.8, random_state=8) #train = 80%,  random_state = any int value means every time when you run your program you will get the same output for train and test dataset, random_state is None by default which means every time when you run your program you will get different output because of splitting between train and test varies within \n",
    "test_dataset = dataset.drop(train_dataset.index) #remove train_dataset from dataframe to get test_dataset"
   ]
  },
  {
   "cell_type": "code",
   "execution_count": 88,
   "id": "43d6b4c3-49e1-4228-b118-0c3c11de816d",
   "metadata": {},
   "outputs": [],
   "source": [
    "train_labels = pd.DataFrame([train_dataset.pop(x) for x in ['label_Red', 'label_Green', 'label_Blue', 'label_Yellow', 'label_Orange', 'label_Pink', 'label_Purple', 'label_Brown', 'label_Grey', 'label_Black', 'label_White']]).T\n",
    "test_labels = pd.DataFrame([test_dataset.pop(x) for x in ['label_Red', 'label_Green', 'label_Blue', 'label_Yellow', 'label_Orange', 'label_Pink', 'label_Purple', 'label_Brown', 'label_Grey', 'label_Black', 'label_White']]).T"
   ]
  },
  {
   "cell_type": "code",
   "execution_count": null,
   "id": "845be4d0-d4ca-4155-b3e9-6fb5a397cc63",
   "metadata": {},
   "outputs": [],
   "source": [
    "#конвертировать в tensor (количество образцов, количество признаков):(1, 3) -> (1, (r,g,b))"
   ]
  },
  {
   "cell_type": "code",
   "execution_count": 111,
   "id": "8f648fb2-5fc3-4afc-a751-2d6b8847637e",
   "metadata": {},
   "outputs": [],
   "source": [
    "train_dataset_tf=tf.convert_to_tensor(train_dataset)\n",
    "train_labels_tf=tf.convert_to_tensor(train_labels)\n",
    "test_dataset_tf=tf.convert_to_tensor(test_dataset)\n",
    "test_labels_tf=tf.convert_to_tensor(test_labels)"
   ]
  },
  {
   "cell_type": "code",
   "execution_count": 97,
   "id": "6a1e48f5-32eb-427c-9021-8a39e7117abd",
   "metadata": {},
   "outputs": [],
   "source": [
    "model = keras.Sequential([\n",
    "    layers.Dense(64, activation = \"relu\"),\n",
    "    layers.Dense(64, activation = \"relu\"),\n",
    "    layers.Dense(11, activation = \"softmax\"),\n",
    "])"
   ]
  },
  {
   "cell_type": "code",
   "execution_count": 98,
   "id": "7ddbe168-9155-41c5-b337-73f9c6cb981a",
   "metadata": {},
   "outputs": [],
   "source": [
    "model.compile(optimizer=\"rmsprop\",\n",
    "             loss=\"categorical_crossentropy\",\n",
    "             metrics=[\"accuracy\"])"
   ]
  },
  {
   "cell_type": "code",
   "execution_count": 124,
   "id": "93f7236b-40c7-4f1f-8a7a-eeadafadb840",
   "metadata": {},
   "outputs": [
    {
     "name": "stdout",
     "output_type": "stream",
     "text": [
      "Epoch 1/100\n",
      "2/2 [==============================] - 0s 84ms/step - loss: 0.2325 - accuracy: 0.9008 - val_loss: 0.4263 - val_accuracy: 0.8604\n",
      "Epoch 2/100\n",
      "2/2 [==============================] - 0s 46ms/step - loss: 0.2455 - accuracy: 0.8902 - val_loss: 0.4439 - val_accuracy: 0.8535\n",
      "Epoch 3/100\n",
      "2/2 [==============================] - 0s 49ms/step - loss: 0.2506 - accuracy: 0.8872 - val_loss: 0.4220 - val_accuracy: 0.8604\n",
      "Epoch 4/100\n",
      "2/2 [==============================] - 0s 44ms/step - loss: 0.2293 - accuracy: 0.9000 - val_loss: 0.4144 - val_accuracy: 0.8713\n",
      "Epoch 5/100\n",
      "2/2 [==============================] - 0s 47ms/step - loss: 0.2253 - accuracy: 0.9020 - val_loss: 0.4178 - val_accuracy: 0.8693\n",
      "Epoch 6/100\n",
      "2/2 [==============================] - 0s 47ms/step - loss: 0.2232 - accuracy: 0.9035 - val_loss: 0.4278 - val_accuracy: 0.8614\n",
      "Epoch 7/100\n",
      "2/2 [==============================] - 0s 43ms/step - loss: 0.2229 - accuracy: 0.9048 - val_loss: 0.4065 - val_accuracy: 0.8772\n",
      "Epoch 8/100\n",
      "2/2 [==============================] - 0s 44ms/step - loss: 0.2124 - accuracy: 0.9104 - val_loss: 0.4110 - val_accuracy: 0.8703\n",
      "Epoch 9/100\n",
      "2/2 [==============================] - 0s 97ms/step - loss: 0.2377 - accuracy: 0.8986 - val_loss: 0.4323 - val_accuracy: 0.8584\n",
      "Epoch 10/100\n",
      "2/2 [==============================] - 0s 57ms/step - loss: 0.2667 - accuracy: 0.8852 - val_loss: 0.4238 - val_accuracy: 0.8743\n",
      "Epoch 11/100\n",
      "2/2 [==============================] - 0s 51ms/step - loss: 0.2337 - accuracy: 0.8973 - val_loss: 0.4166 - val_accuracy: 0.8733\n",
      "Epoch 12/100\n",
      "2/2 [==============================] - 0s 48ms/step - loss: 0.2320 - accuracy: 0.9000 - val_loss: 0.4221 - val_accuracy: 0.8743\n",
      "Epoch 13/100\n",
      "2/2 [==============================] - 0s 46ms/step - loss: 0.2369 - accuracy: 0.8929 - val_loss: 0.4310 - val_accuracy: 0.8752\n",
      "Epoch 14/100\n",
      "2/2 [==============================] - 0s 46ms/step - loss: 0.2526 - accuracy: 0.8889 - val_loss: 0.4149 - val_accuracy: 0.8723\n",
      "Epoch 15/100\n",
      "2/2 [==============================] - 0s 47ms/step - loss: 0.2230 - accuracy: 0.9048 - val_loss: 0.4009 - val_accuracy: 0.8861\n",
      "Epoch 16/100\n",
      "2/2 [==============================] - 0s 44ms/step - loss: 0.2154 - accuracy: 0.9060 - val_loss: 0.4176 - val_accuracy: 0.8832\n",
      "Epoch 17/100\n",
      "2/2 [==============================] - 0s 47ms/step - loss: 0.2315 - accuracy: 0.8981 - val_loss: 0.4096 - val_accuracy: 0.8733\n",
      "Epoch 18/100\n",
      "2/2 [==============================] - 0s 48ms/step - loss: 0.2301 - accuracy: 0.8986 - val_loss: 0.4224 - val_accuracy: 0.8752\n",
      "Epoch 19/100\n",
      "2/2 [==============================] - 0s 42ms/step - loss: 0.2455 - accuracy: 0.8906 - val_loss: 0.4334 - val_accuracy: 0.8703\n",
      "Epoch 20/100\n",
      "2/2 [==============================] - 0s 42ms/step - loss: 0.2462 - accuracy: 0.8894 - val_loss: 0.4196 - val_accuracy: 0.8703\n",
      "Epoch 21/100\n",
      "2/2 [==============================] - 0s 47ms/step - loss: 0.2278 - accuracy: 0.9077 - val_loss: 0.4040 - val_accuracy: 0.8802\n",
      "Epoch 22/100\n",
      "2/2 [==============================] - 0s 38ms/step - loss: 0.2174 - accuracy: 0.9090 - val_loss: 0.4111 - val_accuracy: 0.8782\n",
      "Epoch 23/100\n",
      "2/2 [==============================] - 0s 45ms/step - loss: 0.2413 - accuracy: 0.8936 - val_loss: 0.4120 - val_accuracy: 0.8752\n",
      "Epoch 24/100\n",
      "2/2 [==============================] - 0s 45ms/step - loss: 0.2249 - accuracy: 0.9033 - val_loss: 0.4311 - val_accuracy: 0.8663\n",
      "Epoch 25/100\n",
      "2/2 [==============================] - 0s 43ms/step - loss: 0.2489 - accuracy: 0.8859 - val_loss: 0.4029 - val_accuracy: 0.8733\n",
      "Epoch 26/100\n",
      "2/2 [==============================] - 0s 41ms/step - loss: 0.2268 - accuracy: 0.8998 - val_loss: 0.4126 - val_accuracy: 0.8782\n",
      "Epoch 27/100\n",
      "2/2 [==============================] - 0s 41ms/step - loss: 0.2305 - accuracy: 0.9008 - val_loss: 0.4031 - val_accuracy: 0.8772\n",
      "Epoch 28/100\n",
      "2/2 [==============================] - 0s 44ms/step - loss: 0.2196 - accuracy: 0.9109 - val_loss: 0.4088 - val_accuracy: 0.8792\n",
      "Epoch 29/100\n",
      "2/2 [==============================] - 0s 41ms/step - loss: 0.2172 - accuracy: 0.9033 - val_loss: 0.4084 - val_accuracy: 0.8782\n",
      "Epoch 30/100\n",
      "2/2 [==============================] - 0s 43ms/step - loss: 0.2434 - accuracy: 0.8914 - val_loss: 0.4295 - val_accuracy: 0.8723\n",
      "Epoch 31/100\n",
      "2/2 [==============================] - 0s 41ms/step - loss: 0.2486 - accuracy: 0.8892 - val_loss: 0.4094 - val_accuracy: 0.8683\n",
      "Epoch 32/100\n",
      "2/2 [==============================] - 0s 44ms/step - loss: 0.2273 - accuracy: 0.9065 - val_loss: 0.4096 - val_accuracy: 0.8752\n",
      "Epoch 33/100\n",
      "2/2 [==============================] - 0s 41ms/step - loss: 0.2255 - accuracy: 0.9000 - val_loss: 0.4196 - val_accuracy: 0.8733\n",
      "Epoch 34/100\n",
      "2/2 [==============================] - 0s 45ms/step - loss: 0.2464 - accuracy: 0.8887 - val_loss: 0.4242 - val_accuracy: 0.8743\n",
      "Epoch 35/100\n",
      "2/2 [==============================] - 0s 41ms/step - loss: 0.2444 - accuracy: 0.8904 - val_loss: 0.4482 - val_accuracy: 0.8594\n",
      "Epoch 36/100\n",
      "2/2 [==============================] - 0s 44ms/step - loss: 0.2682 - accuracy: 0.8800 - val_loss: 0.4183 - val_accuracy: 0.8723\n",
      "Epoch 37/100\n",
      "2/2 [==============================] - 0s 43ms/step - loss: 0.2234 - accuracy: 0.9057 - val_loss: 0.4046 - val_accuracy: 0.8812\n",
      "Epoch 38/100\n",
      "2/2 [==============================] - 0s 43ms/step - loss: 0.2152 - accuracy: 0.9082 - val_loss: 0.4014 - val_accuracy: 0.8901\n",
      "Epoch 39/100\n",
      "2/2 [==============================] - 0s 42ms/step - loss: 0.2143 - accuracy: 0.9092 - val_loss: 0.4191 - val_accuracy: 0.8752\n",
      "Epoch 40/100\n",
      "2/2 [==============================] - 0s 45ms/step - loss: 0.2598 - accuracy: 0.8825 - val_loss: 0.4254 - val_accuracy: 0.8673\n",
      "Epoch 41/100\n",
      "2/2 [==============================] - 0s 41ms/step - loss: 0.2325 - accuracy: 0.9033 - val_loss: 0.4014 - val_accuracy: 0.8812\n",
      "Epoch 42/100\n",
      "2/2 [==============================] - 0s 43ms/step - loss: 0.2123 - accuracy: 0.9085 - val_loss: 0.4025 - val_accuracy: 0.8861\n",
      "Epoch 43/100\n",
      "2/2 [==============================] - 0s 44ms/step - loss: 0.2130 - accuracy: 0.9082 - val_loss: 0.4223 - val_accuracy: 0.8683\n",
      "Epoch 44/100\n",
      "2/2 [==============================] - 0s 38ms/step - loss: 0.2657 - accuracy: 0.8847 - val_loss: 0.4285 - val_accuracy: 0.8733\n",
      "Epoch 45/100\n",
      "2/2 [==============================] - 0s 36ms/step - loss: 0.2388 - accuracy: 0.8951 - val_loss: 0.4175 - val_accuracy: 0.8812\n",
      "Epoch 46/100\n",
      "2/2 [==============================] - 0s 41ms/step - loss: 0.2419 - accuracy: 0.8956 - val_loss: 0.4365 - val_accuracy: 0.8762\n",
      "Epoch 47/100\n",
      "2/2 [==============================] - 0s 47ms/step - loss: 0.2253 - accuracy: 0.9030 - val_loss: 0.4100 - val_accuracy: 0.8743\n",
      "Epoch 48/100\n",
      "2/2 [==============================] - 0s 40ms/step - loss: 0.2286 - accuracy: 0.8976 - val_loss: 0.4222 - val_accuracy: 0.8683\n",
      "Epoch 49/100\n",
      "2/2 [==============================] - 0s 47ms/step - loss: 0.2376 - accuracy: 0.8946 - val_loss: 0.4108 - val_accuracy: 0.8713\n",
      "Epoch 50/100\n",
      "2/2 [==============================] - 0s 37ms/step - loss: 0.2256 - accuracy: 0.9008 - val_loss: 0.4301 - val_accuracy: 0.8604\n",
      "Epoch 51/100\n",
      "2/2 [==============================] - 0s 68ms/step - loss: 0.2589 - accuracy: 0.8889 - val_loss: 0.4273 - val_accuracy: 0.8752\n",
      "Epoch 52/100\n",
      "2/2 [==============================] - 0s 49ms/step - loss: 0.2281 - accuracy: 0.9008 - val_loss: 0.4027 - val_accuracy: 0.8792\n",
      "Epoch 53/100\n",
      "2/2 [==============================] - 0s 48ms/step - loss: 0.2195 - accuracy: 0.9087 - val_loss: 0.4195 - val_accuracy: 0.8693\n",
      "Epoch 54/100\n",
      "2/2 [==============================] - 0s 37ms/step - loss: 0.2557 - accuracy: 0.8884 - val_loss: 0.4335 - val_accuracy: 0.8554\n",
      "Epoch 55/100\n",
      "2/2 [==============================] - 0s 43ms/step - loss: 0.2416 - accuracy: 0.8936 - val_loss: 0.4192 - val_accuracy: 0.8772\n",
      "Epoch 56/100\n",
      "2/2 [==============================] - 0s 45ms/step - loss: 0.2306 - accuracy: 0.9010 - val_loss: 0.4154 - val_accuracy: 0.8752\n",
      "Epoch 57/100\n",
      "2/2 [==============================] - 0s 40ms/step - loss: 0.2183 - accuracy: 0.9060 - val_loss: 0.3957 - val_accuracy: 0.8861\n",
      "Epoch 58/100\n",
      "2/2 [==============================] - 0s 36ms/step - loss: 0.2192 - accuracy: 0.9052 - val_loss: 0.4419 - val_accuracy: 0.8624\n",
      "Epoch 59/100\n",
      "2/2 [==============================] - 0s 42ms/step - loss: 0.2832 - accuracy: 0.8793 - val_loss: 0.4086 - val_accuracy: 0.8752\n",
      "Epoch 60/100\n",
      "2/2 [==============================] - 0s 41ms/step - loss: 0.2333 - accuracy: 0.9005 - val_loss: 0.4059 - val_accuracy: 0.8832\n",
      "Epoch 61/100\n",
      "2/2 [==============================] - 0s 39ms/step - loss: 0.2277 - accuracy: 0.9028 - val_loss: 0.4143 - val_accuracy: 0.8802\n",
      "Epoch 62/100\n",
      "2/2 [==============================] - 0s 40ms/step - loss: 0.2258 - accuracy: 0.9030 - val_loss: 0.4156 - val_accuracy: 0.8842\n",
      "Epoch 63/100\n",
      "2/2 [==============================] - 0s 42ms/step - loss: 0.2279 - accuracy: 0.9015 - val_loss: 0.4205 - val_accuracy: 0.8713\n",
      "Epoch 64/100\n",
      "2/2 [==============================] - 0s 40ms/step - loss: 0.2261 - accuracy: 0.9028 - val_loss: 0.4150 - val_accuracy: 0.8752\n",
      "Epoch 65/100\n",
      "2/2 [==============================] - 0s 41ms/step - loss: 0.2392 - accuracy: 0.8924 - val_loss: 0.4192 - val_accuracy: 0.8693\n",
      "Epoch 66/100\n",
      "2/2 [==============================] - 0s 42ms/step - loss: 0.2303 - accuracy: 0.8978 - val_loss: 0.4240 - val_accuracy: 0.8723\n",
      "Epoch 67/100\n",
      "2/2 [==============================] - 0s 44ms/step - loss: 0.2310 - accuracy: 0.8996 - val_loss: 0.4183 - val_accuracy: 0.8644\n",
      "Epoch 68/100\n",
      "2/2 [==============================] - 0s 45ms/step - loss: 0.2384 - accuracy: 0.8946 - val_loss: 0.4175 - val_accuracy: 0.8743\n",
      "Epoch 69/100\n",
      "2/2 [==============================] - 0s 97ms/step - loss: 0.2331 - accuracy: 0.8993 - val_loss: 0.4248 - val_accuracy: 0.8723\n",
      "Epoch 70/100\n",
      "2/2 [==============================] - 0s 48ms/step - loss: 0.2376 - accuracy: 0.8919 - val_loss: 0.4203 - val_accuracy: 0.8743\n",
      "Epoch 71/100\n",
      "2/2 [==============================] - 0s 45ms/step - loss: 0.2366 - accuracy: 0.8981 - val_loss: 0.4274 - val_accuracy: 0.8733\n",
      "Epoch 72/100\n",
      "2/2 [==============================] - 0s 41ms/step - loss: 0.2346 - accuracy: 0.9000 - val_loss: 0.4181 - val_accuracy: 0.8733\n",
      "Epoch 73/100\n",
      "2/2 [==============================] - 0s 46ms/step - loss: 0.2252 - accuracy: 0.9013 - val_loss: 0.3992 - val_accuracy: 0.8822\n",
      "Epoch 74/100\n",
      "2/2 [==============================] - 0s 44ms/step - loss: 0.2242 - accuracy: 0.9028 - val_loss: 0.4092 - val_accuracy: 0.8723\n",
      "Epoch 75/100\n",
      "2/2 [==============================] - 0s 40ms/step - loss: 0.2329 - accuracy: 0.8961 - val_loss: 0.4176 - val_accuracy: 0.8683\n",
      "Epoch 76/100\n",
      "2/2 [==============================] - 0s 43ms/step - loss: 0.2253 - accuracy: 0.9050 - val_loss: 0.4061 - val_accuracy: 0.8733\n",
      "Epoch 77/100\n",
      "2/2 [==============================] - 0s 48ms/step - loss: 0.2230 - accuracy: 0.9028 - val_loss: 0.4283 - val_accuracy: 0.8663\n",
      "Epoch 78/100\n",
      "2/2 [==============================] - 0s 40ms/step - loss: 0.2717 - accuracy: 0.8835 - val_loss: 0.4281 - val_accuracy: 0.8693\n",
      "Epoch 79/100\n",
      "2/2 [==============================] - 0s 45ms/step - loss: 0.2355 - accuracy: 0.9013 - val_loss: 0.4061 - val_accuracy: 0.8772\n",
      "Epoch 80/100\n",
      "2/2 [==============================] - 0s 49ms/step - loss: 0.2166 - accuracy: 0.9065 - val_loss: 0.4107 - val_accuracy: 0.8782\n",
      "Epoch 81/100\n",
      "2/2 [==============================] - 0s 43ms/step - loss: 0.2125 - accuracy: 0.9114 - val_loss: 0.4012 - val_accuracy: 0.8792\n",
      "Epoch 82/100\n",
      "2/2 [==============================] - 0s 45ms/step - loss: 0.2106 - accuracy: 0.9099 - val_loss: 0.4118 - val_accuracy: 0.8723\n",
      "Epoch 83/100\n",
      "2/2 [==============================] - 0s 45ms/step - loss: 0.2377 - accuracy: 0.8973 - val_loss: 0.4682 - val_accuracy: 0.8485\n",
      "Epoch 84/100\n",
      "2/2 [==============================] - 0s 48ms/step - loss: 0.2995 - accuracy: 0.8728 - val_loss: 0.4271 - val_accuracy: 0.8703\n",
      "Epoch 85/100\n",
      "2/2 [==============================] - 0s 48ms/step - loss: 0.2294 - accuracy: 0.9055 - val_loss: 0.4012 - val_accuracy: 0.8822\n",
      "Epoch 86/100\n",
      "2/2 [==============================] - 0s 44ms/step - loss: 0.2143 - accuracy: 0.9070 - val_loss: 0.4123 - val_accuracy: 0.8782\n",
      "Epoch 87/100\n",
      "2/2 [==============================] - 0s 43ms/step - loss: 0.2117 - accuracy: 0.9129 - val_loss: 0.4026 - val_accuracy: 0.8851\n",
      "Epoch 88/100\n",
      "2/2 [==============================] - 0s 46ms/step - loss: 0.2241 - accuracy: 0.9013 - val_loss: 0.4572 - val_accuracy: 0.8594\n",
      "Epoch 89/100\n",
      "2/2 [==============================] - 0s 45ms/step - loss: 0.2847 - accuracy: 0.8714 - val_loss: 0.4343 - val_accuracy: 0.8703\n",
      "Epoch 90/100\n",
      "2/2 [==============================] - 0s 46ms/step - loss: 0.2288 - accuracy: 0.9020 - val_loss: 0.4047 - val_accuracy: 0.8782\n",
      "Epoch 91/100\n",
      "2/2 [==============================] - 0s 45ms/step - loss: 0.2088 - accuracy: 0.9124 - val_loss: 0.3997 - val_accuracy: 0.8822\n",
      "Epoch 92/100\n",
      "2/2 [==============================] - 0s 46ms/step - loss: 0.2214 - accuracy: 0.9038 - val_loss: 0.4205 - val_accuracy: 0.8683\n",
      "Epoch 93/100\n",
      "2/2 [==============================] - 0s 44ms/step - loss: 0.2428 - accuracy: 0.8924 - val_loss: 0.4281 - val_accuracy: 0.8733\n",
      "Epoch 94/100\n",
      "2/2 [==============================] - 0s 48ms/step - loss: 0.2371 - accuracy: 0.8971 - val_loss: 0.4248 - val_accuracy: 0.8792\n",
      "Epoch 95/100\n",
      "2/2 [==============================] - 0s 44ms/step - loss: 0.2333 - accuracy: 0.8993 - val_loss: 0.4189 - val_accuracy: 0.8752\n",
      "Epoch 96/100\n",
      "2/2 [==============================] - 0s 49ms/step - loss: 0.2338 - accuracy: 0.8981 - val_loss: 0.4196 - val_accuracy: 0.8733\n",
      "Epoch 97/100\n",
      "2/2 [==============================] - 0s 50ms/step - loss: 0.2373 - accuracy: 0.8958 - val_loss: 0.4186 - val_accuracy: 0.8683\n",
      "Epoch 98/100\n",
      "2/2 [==============================] - 0s 49ms/step - loss: 0.2431 - accuracy: 0.8944 - val_loss: 0.4180 - val_accuracy: 0.8743\n",
      "Epoch 99/100\n",
      "2/2 [==============================] - 0s 47ms/step - loss: 0.2225 - accuracy: 0.9040 - val_loss: 0.4080 - val_accuracy: 0.8733\n",
      "Epoch 100/100\n",
      "2/2 [==============================] - 0s 46ms/step - loss: 0.2162 - accuracy: 0.9129 - val_loss: 0.4224 - val_accuracy: 0.8693\n"
     ]
    }
   ],
   "source": [
    "history = model.fit(x=train_dataset_tf, y=train_labels_tf,\n",
    "                    epochs=100,\n",
    "                    batch_size=2048,\n",
    "                    validation_data=(test_dataset_tf, test_labels_tf))"
   ]
  },
  {
   "cell_type": "code",
   "execution_count": 125,
   "id": "5da1354d-422a-4cb7-b996-597d888a3394",
   "metadata": {},
   "outputs": [
    {
     "data": {
      "image/png": "[encoded data removed]",
      "text/plain": [
       "<Figure size 640x480 with 1 Axes>"
      ]
     },
     "metadata": {},
     "output_type": "display_data"
    }
   ],
   "source": [
    "loss = history.history[\"loss\"]\n",
    "val_loss = history.history[\"val_loss\"]\n",
    "epochs = range(1, len(loss) + 1)\n",
    "plt.plot(epochs, loss, \"bo\", label=\"Потери на этапе обучения\")\n",
    "plt.plot(epochs, val_loss, \"b\", label=\"Потери на этапе проверки\")\n",
    "plt.title(\"Потери на этапах обучения и проверки\")\n",
    "plt.xlabel(\"Эпохи\")\n",
    "plt.ylabel(\"Потери\")\n",
    "plt.legend()\n",
    "plt.show()"
   ]
  },
  {
   "cell_type": "code",
   "execution_count": 126,
   "id": "8a3c4b80-1f9e-4b46-92f0-a411bc2cff45",
   "metadata": {},
   "outputs": [
    {
     "name": "stdout",
     "output_type": "stream",
     "text": [
      "32/32 [==============================] - 0s 1ms/step - loss: 0.4224 - accuracy: 0.8693\n",
      "Test accuracy: 0.869\n"
     ]
    }
   ],
   "source": [
    "test_loss, test_acc = model.evaluate(test_dataset_tf, test_labels_tf)\n",
    "print(f\"Test accuracy: {test_acc:.3f}\")"
   ]
  },
  {
   "cell_type": "code",
   "execution_count": 127,
   "id": "80a2277b-0a4d-4105-90f4-be565e6eceda",
   "metadata": {},
   "outputs": [],
   "source": [
    "model.save(\"model/modelColor.keras\")"
   ]
  },
  {
   "cell_type": "code",
   "execution_count": null,
   "id": "0891a5b8-3b8b-485b-bbe0-ad161d1f8a1c",
   "metadata": {},
   "outputs": [],
   "source": []
  }
 ],
 "metadata": {
  "kernelspec": {
   "display_name": "Python 3 (ipykernel)",
   "language": "python",
   "name": "python3"
  },
  "language_info": {
   "codemirror_mode": {
    "name": "ipython",
    "version": 3
   },
   "file_extension": ".py",
   "mimetype": "text/x-python",
   "name": "python",
   "nbconvert_exporter": "python",
   "pygments_lexer": "ipython3",
   "version": "3.10.10"
  }
 },
 "nbformat": 4,
 "nbformat_minor": 5
}
