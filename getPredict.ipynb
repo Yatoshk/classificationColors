{
 "cells": [
  {
   "cell_type": "code",
   "execution_count": 1,
   "id": "87b315f0-3d1e-4e16-badd-1a4936663eea",
   "metadata": {},
   "outputs": [],
   "source": [
    "import tensorflow as tf\n",
    "import tf2onnx\n",
    "import numpy as np"
   ]
  },
  {
   "cell_type": "code",
   "execution_count": 2,
   "id": "34462bfe-cc14-4e2a-bbb1-c5ba7b707324",
   "metadata": {},
   "outputs": [],
   "source": [
    "model = tf.keras.models.load_model('model/modelColor.keras')"
   ]
  },
  {
   "cell_type": "code",
   "execution_count": 3,
   "id": "7ad9ad10-220b-4b97-a916-0d455247ad07",
   "metadata": {},
   "outputs": [],
   "source": [
    "list = [\"Red\", \"Green\", \"Blue\", \"Yellow\", \"Orange\", \"Pink\", \"Purple\", \"Brown\", \"Grey\", \"Black\", \"White\"]"
   ]
  },
  {
   "cell_type": "code",
   "execution_count": 14,
   "id": "fc0d3ded-56a2-49d0-99fd-58f74204b655",
   "metadata": {},
   "outputs": [
    {
     "name": "stdout",
     "output_type": "stream",
     "text": [
      "1/1 [==============================] - 0s 22ms/step\n"
     ]
    },
    {
     "data": {
      "text/plain": [
       "array([[2.0847005e-18, 1.5147392e-11, 2.6644184e-12, 3.2790721e-16,\n",
       "        4.3794197e-17, 8.4413378e-22, 8.8640092e-15, 2.3801858e-10,\n",
       "        2.1202106e-13, 1.0000000e+00, 5.2427014e-16]], dtype=float32)"
      ]
     },
     "execution_count": 14,
     "metadata": {},
     "output_type": "execute_result"
    }
   ],
   "source": [
    "rgb = np.asarray((0, 0 ,0)) #rgb to numpy array\n",
    "input_rgb = np.reshape(rgb, (1,3)) #reshaping as per input to ANN model\n",
    "pre = model.predict(input_rgb)\n",
    "pre"
   ]
  },
  {
   "cell_type": "code",
   "execution_count": 15,
   "id": "e8176a2a-ab71-41b9-9d02-d8404dbae3c7",
   "metadata": {},
   "outputs": [
    {
     "name": "stdout",
     "output_type": "stream",
     "text": [
      "Black\n"
     ]
    }
   ],
   "source": [
    "max = -1\n",
    "ind = -1\n",
    "for i in range(len(pre[0])):\n",
    "    if max < pre[0][i]:\n",
    "        max = pre[0][i]\n",
    "        ind = i\n",
    "print(list[ind])"
   ]
  },
  {
   "cell_type": "code",
   "execution_count": null,
   "id": "d0e54c92-64bd-4d36-a964-a5a69a044d27",
   "metadata": {},
   "outputs": [],
   "source": []
  }
 ],
 "metadata": {
  "kernelspec": {
   "display_name": "Python 3 (ipykernel)",
   "language": "python",
   "name": "python3"
  },
  "language_info": {
   "codemirror_mode": {
    "name": "ipython",
    "version": 3
   },
   "file_extension": ".py",
   "mimetype": "text/x-python",
   "name": "python",
   "nbconvert_exporter": "python",
   "pygments_lexer": "ipython3",
   "version": "3.10.10"
  }
 },
 "nbformat": 4,
 "nbformat_minor": 5
}
