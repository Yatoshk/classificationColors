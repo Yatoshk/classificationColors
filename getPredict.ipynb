{
 "cells": [
  {
   "cell_type": "code",
   "execution_count": 1,
   "id": "87b315f0-3d1e-4e16-badd-1a4936663eea",
   "metadata": {},
   "outputs": [],
   "source": [
    "import tensorflow as tf\n",
    "import tf2onnx\n",
    "import numpy as np"
   ]
  },
  {
   "cell_type": "code",
   "execution_count": 2,
   "id": "34462bfe-cc14-4e2a-bbb1-c5ba7b707324",
   "metadata": {},
   "outputs": [],
   "source": [
    "model = tf.keras.models.load_model('model/pickcolor.keras')"
   ]
  },
  {
   "cell_type": "code",
   "execution_count": 3,
   "id": "7ad9ad10-220b-4b97-a916-0d455247ad07",
   "metadata": {},
   "outputs": [],
   "source": [
    "list = [\"Red\", \"Green\", \"Blue\", \"Yellow\", \"Orange\", \"Pink\", \"Purple\", \"Brown\", \"Grey\", \"Black\", \"White\"]"
   ]
  },
  {
   "cell_type": "code",
   "execution_count": 4,
   "id": "fc0d3ded-56a2-49d0-99fd-58f74204b655",
   "metadata": {},
   "outputs": [
    {
     "name": "stdout",
     "output_type": "stream",
     "text": [
      "1/1 [==============================] - 0s 101ms/step\n"
     ]
    },
    {
     "data": {
      "text/plain": [
       "array([[8.7509721e-26, 1.0000000e+00, 2.2765250e-09, 1.9373765e-08,\n",
       "        7.2441524e-14, 2.0357080e-27, 3.9773185e-22, 5.8796640e-15,\n",
       "        1.1888378e-10, 1.4873864e-11, 2.4845379e-13]], dtype=float32)"
      ]
     },
     "execution_count": 4,
     "metadata": {},
     "output_type": "execute_result"
    }
   ],
   "source": [
    "rgb = np.asarray((50, 168, 80)) #rgb to numpy array\n",
    "input_rgb = np.reshape(rgb, (1,3)) #reshaping as per input to ANN model\n",
    "pre = model.predict(input_rgb)\n",
    "pre"
   ]
  },
  {
   "cell_type": "code",
   "execution_count": 5,
   "id": "e8176a2a-ab71-41b9-9d02-d8404dbae3c7",
   "metadata": {},
   "outputs": [
    {
     "name": "stdout",
     "output_type": "stream",
     "text": [
      "Green\n"
     ]
    }
   ],
   "source": [
    "max = -1\n",
    "ind = -1\n",
    "for i in range(len(pre[0])):\n",
    "    if max < pre[0][i]:\n",
    "        max = pre[0][i]\n",
    "        ind = i\n",
    "print(list[ind])"
   ]
  },
  {
   "cell_type": "code",
   "execution_count": null,
   "id": "d0e54c92-64bd-4d36-a964-a5a69a044d27",
   "metadata": {},
   "outputs": [],
   "source": []
  }
 ],
 "metadata": {
  "kernelspec": {
   "display_name": "Python 3 (ipykernel)",
   "language": "python",
   "name": "python3"
  },
  "language_info": {
   "codemirror_mode": {
    "name": "ipython",
    "version": 3
   },
   "file_extension": ".py",
   "mimetype": "text/x-python",
   "name": "python",
   "nbconvert_exporter": "python",
   "pygments_lexer": "ipython3",
   "version": "3.10.10"
  }
 },
 "nbformat": 4,
 "nbformat_minor": 5
}
