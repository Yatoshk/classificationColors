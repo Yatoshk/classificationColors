{
 "cells": [
  {
   "cell_type": "code",
   "execution_count": 113,
   "id": "4061cbdb-a8a3-44d8-9a4c-5218996fc179",
   "metadata": {},
   "outputs": [],
   "source": [
    "import onnx\n",
    "import numpy as np\n",
    "import onnxruntime as ort"
   ]
  },
  {
   "cell_type": "code",
   "execution_count": 114,
   "id": "3036f4a9-52e7-4a45-a2ae-016ebd607c96",
   "metadata": {},
   "outputs": [
    {
     "name": "stdout",
     "output_type": "stream",
     "text": [
      "input name: dense_15_input, shape: ['unk__21', 3], type: tensor(int64)\n"
     ]
    }
   ],
   "source": [
    "modelPath = \"model/modelColor.onnx\"\n",
    "model = onnx.load(modelPath)\n",
    "session = ort.InferenceSession(model.SerializeToString())\n",
    "inputs = session.get_inputs()\n",
    "print(\"input name: %s, shape: %s, type: %s\" % (inputs[0].name, inputs[0].shape, inputs[0].type))"
   ]
  },
  {
   "cell_type": "code",
   "execution_count": 130,
   "id": "3ccd0757-7da4-450c-8bd8-f8fc880713f6",
   "metadata": {},
   "outputs": [],
   "source": [
    "rgb = np.asarray((255, 190, 3)) #rgb to numpy array\n",
    "input_rgb = np.reshape(rgb, (1,3)).astype(np.int64) #reshaping as per input to ANN model"
   ]
  },
  {
   "cell_type": "code",
   "execution_count": 131,
   "id": "3ff2312d-81e6-4432-bff1-2c14d49ece15",
   "metadata": {},
   "outputs": [],
   "source": [
    "pre = session.run(None, {'dense_15_input': input_rgb})"
   ]
  },
  {
   "cell_type": "code",
   "execution_count": 132,
   "id": "72d3cfef-98f5-40fa-ac76-cf572b80c608",
   "metadata": {},
   "outputs": [
    {
     "name": "stdout",
     "output_type": "stream",
     "text": [
      "[array([[3.9917725e-14, 1.4818910e-05, 1.1873249e-15, 9.2192477e-01,\n",
      "        7.8060396e-02, 0.0000000e+00, 0.0000000e+00, 4.5441723e-10,\n",
      "        0.0000000e+00, 0.0000000e+00, 9.6927297e-17]], dtype=float32)]\n"
     ]
    }
   ],
   "source": [
    "print(pre)"
   ]
  },
  {
   "cell_type": "code",
   "execution_count": 133,
   "id": "1252eca1-d12e-431e-bb82-f76cf2487629",
   "metadata": {},
   "outputs": [],
   "source": [
    "list = [\"Red\", \"Green\", \"Blue\", \"Yellow\", \"Orange\", \"Pink\", \"Purple\", \"Brown\", \"Grey\", \"Black\", \"White\"]"
   ]
  },
  {
   "cell_type": "code",
   "execution_count": 134,
   "id": "d8beb285-70ee-4896-9416-06204badb315",
   "metadata": {},
   "outputs": [
    {
     "name": "stdout",
     "output_type": "stream",
     "text": [
      "Yellow\n"
     ]
    }
   ],
   "source": [
    "max = -1\n",
    "ind = -1\n",
    "for i in range(len(pre[0][0])):\n",
    "    if max < pre[0][0][i]:\n",
    "        max = pre[0][0][i]\n",
    "        ind = i\n",
    "print(list[ind])"
   ]
  },
  {
   "cell_type": "code",
   "execution_count": null,
   "id": "212c47db-abaa-43d2-bb69-6711b07c635d",
   "metadata": {},
   "outputs": [],
   "source": []
  },
  {
   "cell_type": "code",
   "execution_count": null,
   "id": "aba7b0ee-b471-493d-a316-4441e75a128f",
   "metadata": {},
   "outputs": [],
   "source": []
  }
 ],
 "metadata": {
  "kernelspec": {
   "display_name": "Python 3 (ipykernel)",
   "language": "python",
   "name": "python3"
  },
  "language_info": {
   "codemirror_mode": {
    "name": "ipython",
    "version": 3
   },
   "file_extension": ".py",
   "mimetype": "text/x-python",
   "name": "python",
   "nbconvert_exporter": "python",
   "pygments_lexer": "ipython3",
   "version": "3.10.10"
  }
 },
 "nbformat": 4,
 "nbformat_minor": 5
}
