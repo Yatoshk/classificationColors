{
 "cells": [
  {
   "cell_type": "code",
   "execution_count": 30,
   "id": "4061cbdb-a8a3-44d8-9a4c-5218996fc179",
   "metadata": {
    "editable": true,
    "slideshow": {
     "slide_type": ""
    },
    "tags": []
   },
   "outputs": [],
   "source": [
    "import onnx\n",
    "import numpy as np\n",
    "import onnxruntime as ort"
   ]
  },
  {
   "cell_type": "code",
   "execution_count": 31,
   "id": "3036f4a9-52e7-4a45-a2ae-016ebd607c96",
   "metadata": {},
   "outputs": [
    {
     "name": "stdout",
     "output_type": "stream",
     "text": [
      "input name: dense_3_input, shape: ['unk__11', 3], type: tensor(float)\n"
     ]
    }
   ],
   "source": [
    "modelPath = \"model/pickcolor.onnx\"\n",
    "model = onnx.load(modelPath)\n",
    "session = ort.InferenceSession(model.SerializeToString())\n",
    "inputs = session.get_inputs()\n",
    "print(\"input name: %s, shape: %s, type: %s\" % (inputs[0].name, inputs[0].shape, inputs[0].type))"
   ]
  },
  {
   "cell_type": "code",
   "execution_count": 32,
   "id": "3ccd0757-7da4-450c-8bd8-f8fc880713f6",
   "metadata": {},
   "outputs": [],
   "source": [
    "rgb = np.asarray((50, 168, 80)) #rgb to numpy array\n",
    "input_rgb = np.reshape(rgb, (1,3)).astype(np.float32) #reshaping as per input to ANN model"
   ]
  },
  {
   "cell_type": "code",
   "execution_count": 34,
   "id": "3ff2312d-81e6-4432-bff1-2c14d49ece15",
   "metadata": {},
   "outputs": [],
   "source": [
    "pre = session.run(None, {'dense_3_input': input_rgb})"
   ]
  },
  {
   "cell_type": "code",
   "execution_count": 35,
   "id": "72d3cfef-98f5-40fa-ac76-cf572b80c608",
   "metadata": {},
   "outputs": [
    {
     "name": "stdout",
     "output_type": "stream",
     "text": [
      "[array([[9.69163054e-17, 9.99992967e-01, 2.32848009e-07, 5.41165082e-06,\n",
      "        2.38020853e-15, 1.27248015e-14, 7.39653395e-15, 3.36499085e-15,\n",
      "        6.11811117e-07, 8.20411685e-07, 2.57170701e-10]], dtype=float32)]\n"
     ]
    }
   ],
   "source": [
    "print(pre)"
   ]
  },
  {
   "cell_type": "code",
   "execution_count": 36,
   "id": "1252eca1-d12e-431e-bb82-f76cf2487629",
   "metadata": {},
   "outputs": [],
   "source": [
    "list = [\"Red\", \"Green\", \"Blue\", \"Yellow\", \"Orange\", \"Pink\", \"Purple\", \"Brown\", \"Grey\", \"Black\", \"White\"]"
   ]
  },
  {
   "cell_type": "code",
   "execution_count": 37,
   "id": "d8beb285-70ee-4896-9416-06204badb315",
   "metadata": {},
   "outputs": [
    {
     "name": "stdout",
     "output_type": "stream",
     "text": [
      "Green\n"
     ]
    }
   ],
   "source": [
    "max = -1\n",
    "ind = -1\n",
    "for i in range(len(pre[0][0])):\n",
    "    if max < pre[0][0][i]:\n",
    "        max = pre[0][0][i]\n",
    "        ind = i\n",
    "print(list[ind])"
   ]
  },
  {
   "cell_type": "code",
   "execution_count": null,
   "id": "212c47db-abaa-43d2-bb69-6711b07c635d",
   "metadata": {
    "editable": true,
    "slideshow": {
     "slide_type": ""
    },
    "tags": []
   },
   "outputs": [],
   "source": []
  },
  {
   "cell_type": "code",
   "execution_count": null,
   "id": "aba7b0ee-b471-493d-a316-4441e75a128f",
   "metadata": {},
   "outputs": [],
   "source": []
  }
 ],
 "metadata": {
  "kernelspec": {
   "display_name": "Python 3 (ipykernel)",
   "language": "python",
   "name": "python3"
  },
  "language_info": {
   "codemirror_mode": {
    "name": "ipython",
    "version": 3
   },
   "file_extension": ".py",
   "mimetype": "text/x-python",
   "name": "python",
   "nbconvert_exporter": "python",
   "pygments_lexer": "ipython3",
   "version": "3.10.10"
  }
 },
 "nbformat": 4,
 "nbformat_minor": 5
}
